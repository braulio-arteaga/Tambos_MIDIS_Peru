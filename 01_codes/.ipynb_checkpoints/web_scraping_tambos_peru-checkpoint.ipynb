{
 "cells": [
  {
   "cell_type": "markdown",
   "id": "5ae4eaa5",
   "metadata": {},
   "source": [
    "## Tambos - MIDIS | Web Scraping\n",
    "---\n",
    "- **Autor:** Braulio Arteaga  \n",
    "- **Objetivo:** Obtener la relación de Tambos a nivel distrital del Perú de la [Plataforma Fijas (Tambos)](https://www.pais.gob.pe/webpais/public/plataformas/fijas?filtro=&pag=1)  del [Ministerio de Desarrollo e Inclusión Social](https://www.gob.pe/midis).  \n",
    "- **Metodología:** Web Scraping\n",
    "---\n",
    "* **Fecha de creación:** 06-11-22  \n",
    "* **Fecha de actualización:**  13-11-22  "
   ]
  },
  {
   "cell_type": "code",
   "execution_count": null,
   "id": "d34d3220",
   "metadata": {},
   "outputs": [],
   "source": [
    "# PASO 0: Instalar paquetes [solo si no están instalados]\n",
    "!pip install pandas\n",
    "!pip install selenium \n",
    "!pip install webdriver_manager  "
   ]
  },
  {
   "cell_type": "code",
   "execution_count": 1,
   "id": "9db5cdf7",
   "metadata": {},
   "outputs": [],
   "source": [
    "# PASO 1: Importar paquetes\n",
    "import pandas as pd\n",
    "from selenium import webdriver\n",
    "from selenium.webdriver.chrome.service import Service\n",
    "from webdriver_manager.chrome import ChromeDriverManager"
   ]
  },
  {
   "cell_type": "code",
   "execution_count": 2,
   "id": "edccaf14",
   "metadata": {},
   "outputs": [],
   "source": [
    "# PASO 2: Establecer ruta de exportación de \"relación de tambos\"\n",
    "output = \"C:/Users/braul/Desktop/02_projects/01_GITHUB/Tambos_MIDIS_Perú/02_output/Tambos_Distrital_Perú.xlsx\" # modificar"
   ]
  },
  {
   "cell_type": "code",
   "execution_count": null,
   "id": "2abafda0",
   "metadata": {},
   "outputs": [
    {
     "name": "stdout",
     "output_type": "stream",
     "text": [
      "La página 1 tiene 25 tambos\n",
      "La página 2 tiene 25 tambos\n",
      "La página 3 tiene 25 tambos\n",
      "La página 4 tiene 25 tambos\n",
      "La página 5 tiene 25 tambos\n",
      "La página 6 tiene 25 tambos\n",
      "La página 7 tiene 25 tambos\n"
     ]
    }
   ],
   "source": [
    "# PASO 3: Obtener la información de interés (variables) de cada tambo\n",
    "\n",
    "driver = webdriver.Chrome(service=Service(ChromeDriverManager().install()))\n",
    "TAMBOS = pd.DataFrame({'Tambo': [], 'Departamento':[], 'Provincia': [],'Distrito':[], 'Altura': [], 'Gestor': [], 'Correo': [], 'Telefono': [], 'Anexo': []})\n",
    "\n",
    "for j in range(1, 21):   # número de páginas de tambos\n",
    "    \n",
    "    link = 'https://www.pais.gob.pe/webpais/public/plataformas/fijas?filtro=&pag=' + str(j) \n",
    "    driver.get(link)\n",
    "\n",
    "    for i in range(2,27): # número de tambos por página \n",
    "\n",
    "        try:\n",
    "            xpath_nom   = '/html/body/section/div[2]/div/div[2]/' + 'div[' + str(i) + ']/div/div[1]/div[1]/h3' \n",
    "            xpath_dpto  = '/html/body/section/div[2]/div/div[2]/' + 'div[' + str(i) + ']/div/div[2]/div/div[2]/table/tbody/tr[1]/td'\n",
    "            xpath_prov  = '/html/body/section/div[2]/div/div[2]/' + 'div[' + str(i) + ']/div/div[2]/div/div[2]/table/tbody/tr[2]/td' \n",
    "            xpath_dist  = '/html/body/section/div[2]/div/div[2]/' + 'div[' + str(i) + ']/div/div[2]/div/div[2]/table/tbody/tr[3]/td'\n",
    "            xpath_alt   = '/html/body/section/div[2]/div/div[2]/' + 'div[' + str(i) + ']/div/div[2]/div/div[3]/table/tbody/tr[1]/td' \n",
    "            xpath_corr  = '/html/body/section/div[2]/div/div[2]/' + 'div[' + str(i) + ']/div/div[2]/div/div[1]/table/tbody/tr[3]/td' \n",
    "            xpath_g_nom = '/html/body/section/div[2]/div/div[2]/' + 'div[' + str(i) + ']/div/div[2]/div/div[1]/table/tbody/tr[1]/td' \n",
    "            xpath_g_ape = '/html/body/section/div[2]/div/div[2]/' + 'div[' + str(i) + ']/div/div[2]/div/div[1]/table/tbody/tr[2]/td' \n",
    "            xpath_tel   = '/html/body/section/div[2]/div/div[2]/' + 'div[' + str(i) + ']/div/div[2]/div/div[3]/table/tbody/tr[2]/td'\n",
    "            xpath_anex  = '/html/body/section/div[2]/div/div[2]/' + 'div[' + str(i) + ']/div/div[2]/div/div[3]/table/tbody/tr[3]/td'\n",
    "            \n",
    "            Tambo        = driver.find_element('xpath', xpath_nom).text\n",
    "            Departamento = driver.find_element('xpath', xpath_dpto).text\n",
    "            Provincia    = driver.find_element('xpath', xpath_prov).text\n",
    "            Distrito     = driver.find_element('xpath', xpath_dist).text\n",
    "            Altura       = driver.find_element('xpath', xpath_alt).text[:-5]\n",
    "            Gestor       = driver.find_element('xpath', xpath_g_nom).text + driver.find_element('xpath', xpath_g_ape).text    \n",
    "            Correo       = driver.find_element('xpath', xpath_corr).text\n",
    "            Telefono     = driver.find_element('xpath', xpath_tel).text\n",
    "            Anexo        = driver.find_element('xpath', xpath_anex).text\n",
    "                    \n",
    "            Fila = {'Tambo': Tambo, 'Departamento': Departamento, 'Provincia': Provincia, 'Distrito': Distrito, 'Altura': Altura,\n",
    "                    'Gestor': Gestor, 'Correo': Correo, 'Telefono': Telefono, 'Anexo': Anexo}        \n",
    "            TAMBOS.loc[len(TAMBOS)] = Fila\n",
    "        \n",
    "        except Exception as e:\n",
    "            i = i - 1\n",
    "            break\n",
    "            \n",
    "    print(f\"La página {j} tiene {i-1} tambos\")      \n",
    "    "
   ]
  },
  {
   "cell_type": "code",
   "execution_count": 8,
   "id": "2de7b9e5",
   "metadata": {},
   "outputs": [],
   "source": [
    "# PASO 4: Exportación en excel\n",
    "TAMBOS.to_excel(output, index = False)"
   ]
  }
 ],
 "metadata": {
  "kernelspec": {
   "display_name": "Python 3 (ipykernel)",
   "language": "python",
   "name": "python3"
  },
  "language_info": {
   "codemirror_mode": {
    "name": "ipython",
    "version": 3
   },
   "file_extension": ".py",
   "mimetype": "text/x-python",
   "name": "python",
   "nbconvert_exporter": "python",
   "pygments_lexer": "ipython3",
   "version": "3.9.12"
  }
 },
 "nbformat": 4,
 "nbformat_minor": 5
}
